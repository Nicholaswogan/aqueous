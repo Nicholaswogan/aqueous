{
 "cells": [
  {
   "cell_type": "code",
   "execution_count": 1,
   "id": "6cefff94",
   "metadata": {},
   "outputs": [],
   "source": [
    "import numpy as np\n",
    "import re\n",
    "\n",
    "\n",
    "   \n",
    "import yaml\n",
    "\n",
    "try:\n",
    "    from yaml import CLoader as Loader, CDumper as Dumper\n",
    "except ImportError:\n",
    "    from yaml import Loader, Dumper\n",
    "\n",
    "class flowmap( dict ): pass\n",
    "def flowmap_rep(dumper, data):\n",
    "    return dumper.represent_mapping( u'tag:yaml.org,2002:map', data, flow_style=True)\n",
    "\n",
    "class blockseqtrue( list ): pass\n",
    "def blockseqtrue_rep(dumper, data):\n",
    "    return dumper.represent_sequence( u'tag:yaml.org,2002:seq', data, flow_style=True )\n",
    "\n",
    "yaml.add_representer(blockseqtrue, blockseqtrue_rep)\n",
    "yaml.add_representer(flowmap, flowmap_rep)"
   ]
  },
  {
   "cell_type": "code",
   "execution_count": 13,
   "id": "b41282ba",
   "metadata": {},
   "outputs": [],
   "source": [
    "fil = open('spronsbl.dat','r')\n",
    "lines = fil.readlines()\n",
    "fil.close()\n",
    "\n",
    "def process_s(s):\n",
    "    name = s[0][:21].strip()\n",
    "    alt_name = s[0][21:].strip()\n",
    "    comp1 = \")\"+s[1][21:].strip()\n",
    "    pat = r'(?<=\\().+?(?=\\))'\n",
    "    pat1 = r'(?<=\\)).+?(?=\\()'\n",
    "    nu = re.findall(pat, comp1)\n",
    "    at = re.findall(pat1, comp1)\n",
    "    comp = {}\n",
    "    for i,a in enumerate(at[:-1]):\n",
    "        comp[a] = int(nu[i])\n",
    "    comp['e'] = int(at[-1]+nu[-1])\n",
    "    t = s[3].split()+s[4].split()+s[5].split()\n",
    "    coeffs = [float(tt) for tt in t][:-1]\n",
    "    assert len(coeffs) == 10\n",
    "    \n",
    "    out = {}\n",
    "    out['name'] = name\n",
    "    out['alt-name'] = alt_name\n",
    "    out['composition'] = flowmap(comp)\n",
    "    out['thermo'] = blockseqtrue(coeffs)\n",
    "#     out['thermo']['model'] = 'spronsbl'\n",
    "#     out['thermo']['data'] = [blockseqtrue(coeffs)]\n",
    "    \n",
    "    return out\n",
    "\n",
    "n = int(8370/6)\n",
    "sp = []\n",
    "for i in range(n):\n",
    "    sp.append(lines[6*i:6*i+6])\n",
    "    \n",
    "dat = []\n",
    "for s in sp:\n",
    "    dat.append(process_s(s))\n"
   ]
  },
  {
   "cell_type": "code",
   "execution_count": 14,
   "id": "7e23400d",
   "metadata": {},
   "outputs": [],
   "source": [
    "keys = []\n",
    "for d in dat:\n",
    "    for k in d['composition']:\n",
    "        keys.append(k)\n",
    "\n",
    "atoms = list(set(keys))\n",
    "atoms.remove('e')\n",
    "atoms.append('e')\n",
    "\n",
    "out = {}\n",
    "out['atoms'] = blockseqtrue(atoms)\n",
    "out['species'] = dat"
   ]
  },
  {
   "cell_type": "code",
   "execution_count": 18,
   "id": "447be7cc",
   "metadata": {},
   "outputs": [
    {
     "data": {
      "text/plain": [
       "{'C4H8N2O3',\n",
       " 'C5H10N2O3',\n",
       " 'C6H13NO2',\n",
       " 'C6H3OHCH3CH3',\n",
       " 'C6H4OHCH3',\n",
       " 'C8H7O2-',\n",
       " 'C8H8O2'}"
      ]
     },
     "execution_count": 18,
     "metadata": {},
     "output_type": "execute_result"
    }
   ],
   "source": [
    "l = [a['alt-name'] for a in out['species']]\n",
    "set([x for x in l if l.count(x) > 1])"
   ]
  },
  {
   "cell_type": "code",
   "execution_count": null,
   "id": "ec744d6a",
   "metadata": {},
   "outputs": [],
   "source": []
  },
  {
   "cell_type": "code",
   "execution_count": null,
   "id": "bb75c9da",
   "metadata": {},
   "outputs": [],
   "source": []
  },
  {
   "cell_type": "code",
   "execution_count": null,
   "id": "8faf8f7d",
   "metadata": {},
   "outputs": [],
   "source": []
  },
  {
   "cell_type": "code",
   "execution_count": 16,
   "id": "d3e97b6d",
   "metadata": {},
   "outputs": [],
   "source": [
    "fil = open(\"spronsbl.yaml\",'w')\n",
    "yaml.dump(out,fil,sort_keys=False,width=70)\n",
    "fil.close()"
   ]
  },
  {
   "cell_type": "code",
   "execution_count": null,
   "id": "84cb2860",
   "metadata": {},
   "outputs": [],
   "source": []
  },
  {
   "cell_type": "code",
   "execution_count": null,
   "id": "749f77bc",
   "metadata": {},
   "outputs": [],
   "source": []
  },
  {
   "cell_type": "code",
   "execution_count": null,
   "id": "7372a78a",
   "metadata": {},
   "outputs": [],
   "source": []
  },
  {
   "cell_type": "code",
   "execution_count": 23,
   "id": "8562b830",
   "metadata": {},
   "outputs": [
    {
     "data": {
      "text/plain": [
       "('Ag(CO3)-',\n",
       " [-466.223,\n",
       "  -596.178,\n",
       "  0.0,\n",
       "  9.4508,\n",
       "  -9.4692,\n",
       "  27.7508,\n",
       "  -11.2357,\n",
       "  63.6583,\n",
       "  -21.3899,\n",
       "  6.8241])"
      ]
     },
     "execution_count": 23,
     "metadata": {},
     "output_type": "execute_result"
    }
   ],
   "source": [
    "process_s(sp[0])\n",
    "\n"
   ]
  },
  {
   "cell_type": "code",
   "execution_count": null,
   "id": "7b9a41b6",
   "metadata": {},
   "outputs": [],
   "source": []
  },
  {
   "cell_type": "code",
   "execution_count": 36,
   "id": "2d7f133a",
   "metadata": {},
   "outputs": [],
   "source": []
  },
  {
   "cell_type": "code",
   "execution_count": null,
   "id": "bfbdac64",
   "metadata": {},
   "outputs": [],
   "source": []
  },
  {
   "cell_type": "code",
   "execution_count": null,
   "id": "88deb711",
   "metadata": {},
   "outputs": [],
   "source": []
  },
  {
   "cell_type": "code",
   "execution_count": 48,
   "id": "991bb792",
   "metadata": {},
   "outputs": [
    {
     "name": "stdout",
     "output_type": "stream",
     "text": [
      ")Ag(1)C(1)O(3)-(1)\n",
      "\n",
      ")Ag(1)C(1)O(3)-(1)\n",
      "\n",
      ")Ag(1)C(1)O(3)-(1)\n",
      "\n",
      ")Ag(1)C(1)O(3)-(1)\n",
      "\n",
      ")Ag(1)C(1)O(3)-(1)\n",
      "\n",
      ")Ag(1)C(1)O(3)-(1)\n",
      "\n",
      ")Ag(1)C(1)O(3)-(1)\n",
      "\n",
      ")Ag(1)C(1)O(3)-(1)\n",
      "\n",
      ")Ag(1)C(1)O(3)-(1)\n",
      "\n",
      ")Ag(1)C(1)O(3)-(1)\n",
      "\n",
      ")Ag(1)C(1)O(3)-(1)\n",
      "\n",
      ")Ag(1)C(1)O(3)-(1)\n",
      "\n",
      ")Ag(1)C(1)O(3)-(1)\n",
      "\n",
      ")Ag(1)C(1)O(3)-(1)\n",
      "\n",
      ")Ag(1)C(1)O(3)-(1)\n",
      "\n",
      ")Ag(1)C(1)O(3)-(1)\n",
      "\n",
      ")Ag(1)C(1)O(3)-(1)\n",
      "\n",
      ")Ag(1)C(1)O(3)-(1)\n",
      "\n",
      ")Ag(1)C(1)O(3)-(1)\n",
      "\n"
     ]
    }
   ],
   "source": [
    "atoms = []\n",
    "for i in range(len(comp)):\n",
    "    print(comp)"
   ]
  },
  {
   "cell_type": "code",
   "execution_count": null,
   "id": "b3d119aa",
   "metadata": {},
   "outputs": [],
   "source": [
    "def gibbsAQ(spec,T,P):\n",
    "\n",
    "\n",
    "    R = 8.3145\n",
    "\n",
    "    f = open(os.path.join(os.path.dirname(__file__), 'sprons96_edited2.dat'),'r')\n",
    "    lines1 = f.readlines()\n",
    "\n",
    "    lines = []\n",
    "    pp = 0\n",
    "    for line in lines1:\n",
    "\n",
    "        if line.replace(' ','').strip('\\n')=='aqueousspecies':\n",
    "            pp = 1\n",
    "        if pp==1:\n",
    "            lines.append(line)\n",
    "\n",
    "\n",
    "    j = 0\n",
    "    for i in range(0,len(lines)):\n",
    "        if lines[i][20:].replace(' ','').strip('\\n')==spec.replace(' ','') or \\\n",
    "        lines[i][20:].replace(' ','').strip('\\n')==spec.replace(' ','')+'(0)':\n",
    "            j+=1\n",
    "            lines_spec = lines[i+3:i+6]\n",
    "            temp = []\n",
    "            for ii in range(0,len(lines_spec)):\n",
    "                temp = temp+lines_spec[ii].strip('\\n').split()\n",
    "                temp = [float(k) for k in temp]\n",
    "\n",
    "    if j==0:\n",
    "        print(\"Couldn't find it\")\n",
    "        sys.exit()\n",
    "    if j>1:\n",
    "        print(\"Not specific enough of an entry!\")\n",
    "        sys.exit()\n",
    "\n",
    "\n",
    "    coef = temp\n",
    "    Tr = 298.15\n",
    "    Pr = 1\n",
    "    Psi = 2600\n",
    "    Theta = 228\n",
    "    Y = -5.81*10**(-5)\n",
    "    Gr = coef[0]\n",
    "    Hr = coef[1]\n",
    "    Sr = coef[2]\n",
    "    a1 = coef[3]/10\n",
    "    a2 = coef[4]*100\n",
    "    a3 = coef[5]\n",
    "    a4 = coef[6]*10000\n",
    "    c1 = coef[7]\n",
    "    c2 = coef[8]*10000\n",
    "    w = coef[9]*100000\n",
    "    q = coef[10]\n",
    "    diE = dielectric(T,P)\n",
    "                        # These formulas are all parts of the formulas used in Walther's Essentials of GeoChemistry.\n",
    "    G1 = Gr\n",
    "    G2 = -1*Sr*(T-Tr)\n",
    "    G3 = -1*c1*(T*np.log(T/Tr)-T+Tr)\n",
    "    G4 = a1*(P-Pr)\n",
    "\n",
    "    h1 = np.log( (Psi+P) / (Psi + Pr))\n",
    "\n",
    "    G5 = a2*h1\n",
    "\n",
    "    h2 = (1/(T-Theta))-(1/(Tr-Theta))\n",
    "    h3 = (Theta-T)/Theta\n",
    "    h4 = np.log(Tr*(T-Theta)/(T*(Tr-Theta)))\n",
    "\n",
    "    G6 = -1*c2*(h2*h3-T/(Theta*Theta)*h4)\n",
    "    G7 = (1/(T-Theta))*(a3*(P-Pr)+a4*h1)\n",
    "    G8 = w*Y*(T-Tr)\n",
    "\n",
    "    G = 4.184*(G1+G2+G3+G4+G5+G6+G7+G8)\n",
    "\n",
    "    return G"
   ]
  }
 ],
 "metadata": {
  "kernelspec": {
   "display_name": "Python 3 (ipykernel)",
   "language": "python",
   "name": "python3"
  },
  "language_info": {
   "codemirror_mode": {
    "name": "ipython",
    "version": 3
   },
   "file_extension": ".py",
   "mimetype": "text/x-python",
   "name": "python",
   "nbconvert_exporter": "python",
   "pygments_lexer": "ipython3",
   "version": "3.9.7"
  }
 },
 "nbformat": 4,
 "nbformat_minor": 5
}
